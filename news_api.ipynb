{
 "cells": [
  {
   "cell_type": "markdown",
   "id": "105d65b2-8c13-4ead-95c2-2e66385e4ae1",
   "metadata": {},
   "source": [
    "## Import Liberaries"
   ]
  },
  {
   "cell_type": "code",
   "execution_count": 1,
   "id": "53f69661-64c2-4b3e-9579-f74185a8693f",
   "metadata": {},
   "outputs": [],
   "source": [
    "import pandas as pd\n",
    "import json\n",
    "import requests\n",
    "# cd23a40b7a0d44cb99af86eeb31869eb"
   ]
  },
  {
   "cell_type": "code",
   "execution_count": 2,
   "id": "abf0680b-fe29-4fc9-8dbb-a998bffcbb18",
   "metadata": {},
   "outputs": [],
   "source": [
    "api_key = 'cd23a40b7a0d44cb99af86eeb31869eb'\n",
    "headers = {'Authorization': 'cd23a40b7a0d44cb99af86eeb31869eb'}"
   ]
  },
  {
   "cell_type": "markdown",
   "id": "5495e48b-bb3c-4d47-8b48-99c52780ccf5",
   "metadata": {},
   "source": [
    "## API Key"
   ]
  },
  {
   "cell_type": "markdown",
   "id": "9578d155-9e5f-441f-a709-dd97319555f4",
   "metadata": {},
   "source": [
    "Note that in order to interact with the API, it is mandatory to provide the API key.\n",
    "\n",
    "There are two ways to do that \n",
    "\n",
    "- Using API key in the request URL (\"https://newsapi.org/v2/everything?q=bitcoin&apiKey=API_KEY?\")\n",
    "- newsapi = NewsApiClient(api_key='API_KEY')"
   ]
  },
  {
   "cell_type": "markdown",
   "id": "c78293b5-68c0-4228-a80c-40110c3adf09",
   "metadata": {},
   "source": [
    "Create a variable to hold the API key"
   ]
  },
  {
   "cell_type": "markdown",
   "id": "f5b7c216-da87-4ac6-9fc8-115f910c41c2",
   "metadata": {},
   "source": [
    "## Headers\n",
    "we create a dictionary to store our API key, we include it in the header of the \"requests\""
   ]
  },
  {
   "cell_type": "code",
   "execution_count": 3,
   "id": "25203937-eaac-4f65-9e2d-545984eeacab",
   "metadata": {},
   "outputs": [],
   "source": [
    "headers = {'Authorization': 'cd23a40b7a0d44cb99af86eeb31869eb'}"
   ]
  },
  {
   "cell_type": "markdown",
   "id": "7da6f2cb-b0d5-486c-a54f-72af7f0fb6cd",
   "metadata": {},
   "source": [
    "## API Endpoint"
   ]
  },
  {
   "cell_type": "markdown",
   "id": "41281632-b85a-4789-9e7a-a592fa854b7d",
   "metadata": {},
   "source": [
    "News API has 2 main endpoints:\n",
    "\n",
    "- [Everything](https://newsapi.org/docs/endpoints/everything) `/v2/everything` – search every article published by over 75,000 different sources large and small in the last 3 years. This endpoint is ideal for news analysis and article discovery.\n",
    "- [Top headlines](https://newsapi.org/docs/endpoints/top-headlines) `/v2/top-headlines` – returns breaking news headlines for countries, categories, and singular publishers. This is perfect for use with news tickers or anywhere you want to display live up-to-date news headlines."
   ]
  },
  {
   "cell_type": "markdown",
   "id": "dbb713bb-b9b6-4904-9003-506544c6690a",
   "metadata": {},
   "source": [
    "we create 2 variables to hold the API endpoints."
   ]
  },
  {
   "cell_type": "code",
   "execution_count": 4,
   "id": "bb3565db-655f-465f-935b-06f4a8581f71",
   "metadata": {},
   "outputs": [],
   "source": [
    "everything = \"https://newsapi.org/v2/everything?\"\n",
    "top_headlines = \"https://newsapi.org/v2/top-headlines?\""
   ]
  },
  {
   "cell_type": "markdown",
   "id": "afd21dc0-98fc-49e2-8758-f7eec1cfe9fe",
   "metadata": {},
   "source": [
    "## API Keywords"
   ]
  },
  {
   "cell_type": "markdown",
   "id": "c4e74753-b193-4edd-983a-30ad44c78005",
   "metadata": {},
   "source": [
    "Keywords or a phrase to search for.\n",
    "\n",
    "the parameter ‘***q***’ stands for the keyword search value. The news articles matching the keyword search are returned as a response"
   ]
  },
  {
   "cell_type": "code",
   "execution_count": 5,
   "id": "bedad96a-4112-458b-9795-2319ecc81094",
   "metadata": {},
   "outputs": [],
   "source": [
    "# in our tutorial we look for news related to Apple\n",
    "keywords = \"apple\""
   ]
  },
  {
   "cell_type": "markdown",
   "id": "61bec303-f40d-46ee-b75c-c98ef518fd42",
   "metadata": {},
   "source": [
    "## API Sources\n",
    "A comma-seperated string of identifiers for the news sources or blogs you want headlines from. "
   ]
  },
  {
   "cell_type": "code",
   "execution_count": 6,
   "id": "582eb948-2f37-4e46-a543-d02ff912b652",
   "metadata": {},
   "outputs": [],
   "source": [
    "sources = ['abc-news', 'business-insider', 'financial-post', 'google-news',\n",
    "           'reuters','nbc-news', 'techcrunch', 'the-wall-street-journal']"
   ]
  },
  {
   "cell_type": "markdown",
   "id": "3c952737-c9ce-4804-b75d-1d54a2d9de91",
   "metadata": {},
   "source": [
    "## API sortBy\n",
    "\n",
    "The ‘sortBy’ parameter contains the option that applies to the returned articles. Based on this value, the articles are sorted in the response\n",
    "\n",
    "Possible options: [relevancy, popularity, publishedAt]."
   ]
  },
  {
   "cell_type": "code",
   "execution_count": 7,
   "id": "17b27903-9943-4283-bfb1-95d079bea0a3",
   "metadata": {},
   "outputs": [],
   "source": [
    "sorby = \"popularity\""
   ]
  },
  {
   "cell_type": "markdown",
   "id": "ead49f98-c735-434d-b2d2-89e09514e8a1",
   "metadata": {},
   "source": [
    "## Payloads"
   ]
  },
  {
   "cell_type": "markdown",
   "id": "cb92b55e-5fbe-4541-a55e-716370609dd3",
   "metadata": {},
   "source": [
    "Next step is to create different payloads that need to be sent to the API. The payload is nothing more than some information that needs to be sent to the API. The payload can include information such as news category, country, language, etc."
   ]
  },
  {
   "cell_type": "code",
   "execution_count": 8,
   "id": "41328e62-0240-438e-b0f9-d3543ea8a859",
   "metadata": {},
   "outputs": [],
   "source": [
    "params= {\n",
    "    'q': keywords,\n",
    "    'apiKey': api_key,\n",
    "    'sortBy': sorby,\n",
    "    'language': 'en',\n",
    "    'page': 1\n",
    "        }"
   ]
  },
  {
   "cell_type": "markdown",
   "id": "4c8aacac-e210-4531-ac5d-b71497e4f862",
   "metadata": {},
   "source": [
    "## Requests API\n",
    "Make the request using the get() method of the requests library.\n",
    "\n",
    "Make the request using the get() method of the requests library.\n",
    "we're going to pass ony 2 parameters, first the 'url' parameter,  specify the NewsAPI endpoint, and lastly pass the payloads dictionary to the 'params' parameter."
   ]
  },
  {
   "cell_type": "code",
   "execution_count": 9,
   "id": "24bb84ee-7473-4e71-98c3-552458005102",
   "metadata": {},
   "outputs": [],
   "source": [
    "response = requests.get(url=top_headlines, headers=headers, params=params)"
   ]
  },
  {
   "cell_type": "markdown",
   "id": "922a1b1e-5b7f-4aed-8271-451887663098",
   "metadata": {},
   "source": [
    "The structure of the \"***requests***\" remains the same throughout, we can update the parameters \"***url***\" and \"***params***\" parameter in order to gather diffrent type of news."
   ]
  },
  {
   "cell_type": "markdown",
   "id": "9acecf2b-407e-459e-8087-0c04cd6409c9",
   "metadata": {},
   "source": [
    "## Response"
   ]
  },
  {
   "cell_type": "markdown",
   "id": "008039f9-df39-48e4-a82d-2d7e059392fb",
   "metadata": {},
   "source": [
    "create a viariable to hold the the \"response\"  in dictionary format"
   ]
  },
  {
   "cell_type": "code",
   "execution_count": 13,
   "id": "f92479a1-f14e-4044-bbcf-e7f693e4ce71",
   "metadata": {},
   "outputs": [],
   "source": [
    "output = response.json()"
   ]
  },
  {
   "cell_type": "markdown",
   "id": "65ca7ef1-1148-4d5f-bc7b-7b312b2a9c0b",
   "metadata": {},
   "source": [
    "Print out the response on the console"
   ]
  },
  {
   "cell_type": "code",
   "execution_count": 14,
   "id": "4cfbc088-cbb1-433f-a2fc-0b6b567c41a7",
   "metadata": {},
   "outputs": [
    {
     "name": "stdout",
     "output_type": "stream",
     "text": [
      "{\n",
      "    \"status\": \"ok\",\n",
      "    \"totalResults\": 10,\n",
      "    \"articles\": [\n",
      "        {\n",
      "            \"source\": {\n",
      "                \"id\": null,\n",
      "                \"name\": \"Rappler\"\n",
      "            },\n",
      "            \"author\": \"Rappler.com\",\n",
      "            \"title\": \"Jollibee introduces new sweet chili chicken - Rappler\",\n",
      "            \"description\": \"Jollibee's fried chicken is coated in a sweet-spicy chili glaze\",\n",
      "            \"url\": \"https://www.rappler.com/life-and-style/food-drinks/jollibee-sweet-chili-chicken\",\n",
      "            \"urlToImage\": \"https://assets2.rappler.com/2021/06/1-1623468746894.jpg\",\n",
      "            \"publishedAt\": \"2021-06-12T03:39:00Z\",\n",
      "            \"content\": \"Jollibee's new limited edition item can be ordered for dine-in, take-out, drive-thru, or delivery via the Jollibee Delivery app, website, hotline number, GrabFood, and foodpanda. Rappler.com\"\n",
      "        },\n",
      "        {\n",
      "            \"source\": {\n",
      "                \"id\": null,\n",
      "                \"name\": \"Rappler\"\n",
      "            },\n",
      "            \"author\": \"Reuters\",\n",
      "            \"title\": \"Hong Kong democracy activist Agnes Chow released from prison - Rappler\",\n",
      "            \"description\": \"(1st UPDATE) Agnes Chow serves nearly seven months in prison for her role in an unauthorized assembly during Hong Kong's 2019 anti-government protests\",\n",
      "            \"url\": \"https://www.rappler.com/world/asia-pacific/hong-kong-democracy-activist-agnes-chow-released\",\n",
      "            \"urlToImage\": \"https://assets2.rappler.com/2021/06/Agnes-Chow-Wikimedia-June-12-2021-1623465814534.jpeg\",\n",
      "            \"publishedAt\": \"2021-06-12T02:45:00Z\",\n",
      "            \"content\": \"Hong Kong pro-democracy activist Agnes Chow was released from prison on Saturday, June 12, after serving nearly seven months for her role in an unauthorized assembly during anti-government protests i\\u2026 [+18 chars]\"\n",
      "        },\n",
      "        {\n",
      "            \"source\": {\n",
      "                \"id\": null,\n",
      "                \"name\": \"Investor's Business Daily\"\n",
      "            },\n",
      "            \"author\": \"Investor's Business Daily\",\n",
      "            \"title\": \"Dow Jones Futures: Apple Stock Vs. Microsoft Vs. Google; How To Be A Big Stock Market Winner - Investor's Business Daily\",\n",
      "            \"description\": \"Apple, Microsoft and Google are in bases, but which is the most promising? To be a big market winner, be a small loser.\",\n",
      "            \"url\": \"https://www.investors.com/market-trend/stock-market-today/dow-jones-futures-apple-stock-vs-microsoft-vs-google-how-to-be-a-big-stock-market-winner/\",\n",
      "            \"urlToImage\": \"https://www.investors.com/wp-content/uploads/2020/07/Stock-Apple-bangkok-01-company.jpg\",\n",
      "            \"publishedAt\": \"2021-06-12T00:27:00Z\",\n",
      "            \"content\": \"Dow Jones futures will open Sunday evening, along with S&amp;P 500 futures and Nasdaq futures. The stock market rally continued to improve last week, with the S&amp;P 500 at a record high and more br\\u2026 [+7248 chars]\"\n",
      "        },\n",
      "        {\n",
      "            \"source\": {\n",
      "                \"id\": null,\n",
      "                \"name\": \"CNBC\"\n",
      "            },\n",
      "            \"author\": \"Steve Kovach\",\n",
      "            \"title\": \"Apple says it didn't know Trump's DOJ was asking for Democrats' data when it complied with subpoena - CNBC\",\n",
      "            \"description\": \"Apple on Friday said it didn't know former President Donald Trump's Department of Justice was subpoenaed data on Democrats when it complied with the request\",\n",
      "            \"url\": \"https://www.cnbc.com/2021/06/11/apple-says-it-didnt-know-trumps-doj-was-asking-for-democrats-data.html\",\n",
      "            \"urlToImage\": \"https://image.cnbcfm.com/api/v1/image/105442295-1536599746593ap_17170790183961.jpg?v=1536599810\",\n",
      "            \"publishedAt\": \"2021-06-11T23:38:13Z\",\n",
      "            \"content\": \"Apple said Friday it didn't know former President Donald Trump's Department of Justice was asking for the metadata of Democratic lawmakers when it complied with a subpoena seeking the information.\\r\\nA\\u2026 [+3317 chars]\"\n",
      "        },\n",
      "        {\n",
      "            \"source\": {\n",
      "                \"id\": null,\n",
      "                \"name\": \"Forbes\"\n",
      "            },\n",
      "            \"author\": \"Ewan Spence\",\n",
      "            \"title\": \"Apple Loop: iPhone\\u2019s Powerful Update, Adobe\\u2019s ARM Adventure, Apple\\u2019s Missing MacBook Pro - Forbes\",\n",
      "            \"description\": \"This week\\u2019s Apple headlines; all the news from WWDC, the updates to iOS, macOS, iPadOS, and WatchOS, Apple\\u2019s missing MacBooks, Adobe\\u2019s Creative Cloud, and more...\",\n",
      "            \"url\": \"https://www.forbes.com/sites/ewanspence/2021/06/11/apple-news-headlines-iphone-13-ios-15-macos-ipados-watchos-adobe-microsoft-wwdc/\",\n",
      "            \"urlToImage\": \"https://thumbor.forbes.com/thumbor/fit-in/1200x0/filters%3Aformat%28jpg%29/https%3A%2F%2Fspecials-images.forbesimg.com%2Fimageserve%2F60c3d37dc31120c5ed48fbf1%2F0x0.jpg\",\n",
      "            \"publishedAt\": \"2021-06-11T22:32:21Z\",\n",
      "            \"content\": \"Taking a look back at another week of news and headlines from Cupertino, this weeks Apple Loop includes all the news from WWDC, the updates to iOS, macOS, iPadOS, and WatchOS, Apples missing MacBooks\\u2026 [+6635 chars]\"\n",
      "        },\n",
      "        {\n",
      "            \"source\": {\n",
      "                \"id\": null,\n",
      "                \"name\": \"Rappler\"\n",
      "            },\n",
      "            \"author\": null,\n",
      "            \"title\": \"6 themed sales to look out for at Shopee's 6.6-7.7 Mid-Year Sale - Rappler\",\n",
      "            \"description\": \"You won\\u2019t want to miss out on all these Shopee deals!\",\n",
      "            \"url\": \"https://www.rappler.com/brandrap/announcements/list-shopee-sale-june-6-july-7-2021\",\n",
      "            \"urlToImage\": \"https://assets2.rappler.com/2021/06/shopee-midyear-sale-1623292530682.jpg\",\n",
      "            \"publishedAt\": \"2021-06-11T10:07:00Z\",\n",
      "            \"content\": \"With vouchers, you can save money on shipping, get discounts, and claim cashback. Enjoy stacking both platform and shop vouchers for more discounts on your purchases. On July 6, claim up to P7,700 wo\\u2026 [+15 chars]\"\n",
      "        },\n",
      "        {\n",
      "            \"source\": {\n",
      "                \"id\": null,\n",
      "                \"name\": \"Zoom\"\n",
      "            },\n",
      "            \"author\": \"Rishabh Chakravorty\",\n",
      "            \"title\": \"Apple presents passwordless sign ups with face ID and touch ID - Times Now\",\n",
      "            \"description\": \"Apple will soon allow users to sign up and login for services without having to ever type a password.\",\n",
      "            \"url\": \"https://www.timesnownews.com/business-economy/companies/article/apple-presents-passwordless-sign-ups-with-face-id-and-touch-id/769337\",\n",
      "            \"urlToImage\": \"https://imgk.timesnownews.com/1623405065-ple.jpg?tr=w-560,h-292,fo-top\",\n",
      "            \"publishedAt\": \"2021-06-11T10:04:53Z\",\n",
      "            \"content\": \"<ul><li>When you visit a website that supports Apples Passkeys, enter your user ID during a new registration and then use Face ID and Touch ID, </li></ul>\\r\\n<ul><li>Passkeys is a part of iCloud keycha\\u2026 [+2020 chars]\"\n",
      "        },\n",
      "        {\n",
      "            \"source\": {\n",
      "                \"id\": null,\n",
      "                \"name\": \"POPSUGAR\"\n",
      "            },\n",
      "            \"author\": \"Haley Lyndes\",\n",
      "            \"title\": \"Apple Debuted Its iOS 15 Software Update, and These Are Our Key Takeaways - POPSUGAR\",\n",
      "            \"description\": \"Apple announced the new iOS 15 update for iPhone, which includes a reimagined FaceTime experience, new Notifications, updated Maps, and more.\",\n",
      "            \"url\": \"https://www.popsugar.com/tech/apple-new-ios-15-features-48367169\",\n",
      "            \"urlToImage\": \"https://media1.popsugar-assets.com/files/thumbor/BQne9I2Ydd8c7euc01WqPq42yuk/0x1804:3987x3897/fit-in/1200x630/filters:format_auto-!!-:strip_icc-!!-/2021/06/10/703/n/1922507/be6e6f5c60c2354f8ddad8.39983079_.jpg\",\n",
      "            \"publishedAt\": \"2021-06-10T20:40:02Z\",\n",
      "            \"content\": \"Apple held its annual World Wide Developers Conference on Monday, and with it came some major announcements specifically iPhone-related (the most crucial of them all). Essentially, Apple will be rele\\u2026 [+759 chars]\"\n",
      "        }\n",
      "    ]\n",
      "}\n"
     ]
    }
   ],
   "source": [
    "print(json.dumps(output, indent=4))"
   ]
  },
  {
   "cell_type": "markdown",
   "id": "52c5a9b0-fa3c-42e3-a05c-6d18e300f591",
   "metadata": {},
   "source": [
    "## Save Resonse to CSV"
   ]
  },
  {
   "cell_type": "markdown",
   "id": "250e7ca9-ffad-4035-be7d-a0a4cc81c485",
   "metadata": {},
   "source": [
    "In order to create a dataframe with the result obtained, we must access the dictionary values using the \"articles\" key"
   ]
  },
  {
   "cell_type": "code",
   "execution_count": 15,
   "id": "4c77b30f-a363-439e-b5be-63c475e9d4df",
   "metadata": {},
   "outputs": [
    {
     "name": "stdout",
     "output_type": "stream",
     "text": [
      "dict_keys(['status', 'totalResults', 'articles'])\n"
     ]
    }
   ],
   "source": [
    "print(output.keys())"
   ]
  },
  {
   "cell_type": "markdown",
   "id": "a3cda586-50cf-4ac3-a875-d62291bd59b1",
   "metadata": {},
   "source": [
    "Create a variable to hold the articles information."
   ]
  },
  {
   "cell_type": "code",
   "execution_count": 16,
   "id": "0209dae7-00d4-42cb-ba6c-0d11cd2fabe9",
   "metadata": {},
   "outputs": [],
   "source": [
    "articles = output['articles']"
   ]
  },
  {
   "cell_type": "markdown",
   "id": "89d97edf-3ee8-46b1-b0ac-2762f5662b4e",
   "metadata": {},
   "source": [
    "Using \"pandas\" we create a dataframe using the method \"DataFrame\" passing parameter \"data\" with the articles variable"
   ]
  },
  {
   "cell_type": "code",
   "execution_count": 17,
   "id": "6af7675f-0b04-4ea5-ba60-5e4dcdf23940",
   "metadata": {},
   "outputs": [],
   "source": [
    "df = pd.DataFrame(articles)"
   ]
  },
  {
   "cell_type": "code",
   "execution_count": 112,
   "id": "a341f068-79cc-4109-b0aa-9847d3f1e262",
   "metadata": {},
   "outputs": [
    {
     "data": {
      "text/html": [
       "<div>\n",
       "<style scoped>\n",
       "    .dataframe tbody tr th:only-of-type {\n",
       "        vertical-align: middle;\n",
       "    }\n",
       "\n",
       "    .dataframe tbody tr th {\n",
       "        vertical-align: top;\n",
       "    }\n",
       "\n",
       "    .dataframe thead th {\n",
       "        text-align: right;\n",
       "    }\n",
       "</style>\n",
       "<table border=\"1\" class=\"dataframe\">\n",
       "  <thead>\n",
       "    <tr style=\"text-align: right;\">\n",
       "      <th></th>\n",
       "      <th>source</th>\n",
       "      <th>author</th>\n",
       "      <th>title</th>\n",
       "      <th>description</th>\n",
       "      <th>url</th>\n",
       "      <th>urlToImage</th>\n",
       "      <th>publishedAt</th>\n",
       "      <th>content</th>\n",
       "    </tr>\n",
       "  </thead>\n",
       "  <tbody>\n",
       "    <tr>\n",
       "      <th>0</th>\n",
       "      <td>{'id': None, 'name': 'Rappler'}</td>\n",
       "      <td>Rappler.com</td>\n",
       "      <td>Jollibee introduces new sweet chili chicken - ...</td>\n",
       "      <td>Jollibee's fried chicken is coated in a sweet-...</td>\n",
       "      <td>https://www.rappler.com/life-and-style/food-dr...</td>\n",
       "      <td>https://assets2.rappler.com/2021/06/1-16234687...</td>\n",
       "      <td>2021-06-12T03:39:00Z</td>\n",
       "      <td>Jollibee's new limited edition item can be ord...</td>\n",
       "    </tr>\n",
       "    <tr>\n",
       "      <th>1</th>\n",
       "      <td>{'id': None, 'name': 'Rappler'}</td>\n",
       "      <td>Reuters</td>\n",
       "      <td>Hong Kong democracy activist Agnes Chow releas...</td>\n",
       "      <td>(1st UPDATE) Agnes Chow serves nearly seven mo...</td>\n",
       "      <td>https://www.rappler.com/world/asia-pacific/hon...</td>\n",
       "      <td>https://assets2.rappler.com/2021/06/Agnes-Chow...</td>\n",
       "      <td>2021-06-12T02:45:00Z</td>\n",
       "      <td>Hong Kong pro-democracy activist Agnes Chow wa...</td>\n",
       "    </tr>\n",
       "    <tr>\n",
       "      <th>2</th>\n",
       "      <td>{'id': None, 'name': 'Investor's Business Daily'}</td>\n",
       "      <td>Investor's Business Daily</td>\n",
       "      <td>Dow Jones Futures: Apple Stock Vs. Microsoft V...</td>\n",
       "      <td>Apple, Microsoft and Google are in bases, but ...</td>\n",
       "      <td>https://www.investors.com/market-trend/stock-m...</td>\n",
       "      <td>https://www.investors.com/wp-content/uploads/2...</td>\n",
       "      <td>2021-06-12T00:27:00Z</td>\n",
       "      <td>Dow Jones futures will open Sunday evening, al...</td>\n",
       "    </tr>\n",
       "  </tbody>\n",
       "</table>\n",
       "</div>"
      ],
      "text/plain": [
       "                                              source  \\\n",
       "0                    {'id': None, 'name': 'Rappler'}   \n",
       "1                    {'id': None, 'name': 'Rappler'}   \n",
       "2  {'id': None, 'name': 'Investor's Business Daily'}   \n",
       "\n",
       "                      author  \\\n",
       "0                Rappler.com   \n",
       "1                    Reuters   \n",
       "2  Investor's Business Daily   \n",
       "\n",
       "                                               title  \\\n",
       "0  Jollibee introduces new sweet chili chicken - ...   \n",
       "1  Hong Kong democracy activist Agnes Chow releas...   \n",
       "2  Dow Jones Futures: Apple Stock Vs. Microsoft V...   \n",
       "\n",
       "                                         description  \\\n",
       "0  Jollibee's fried chicken is coated in a sweet-...   \n",
       "1  (1st UPDATE) Agnes Chow serves nearly seven mo...   \n",
       "2  Apple, Microsoft and Google are in bases, but ...   \n",
       "\n",
       "                                                 url  \\\n",
       "0  https://www.rappler.com/life-and-style/food-dr...   \n",
       "1  https://www.rappler.com/world/asia-pacific/hon...   \n",
       "2  https://www.investors.com/market-trend/stock-m...   \n",
       "\n",
       "                                          urlToImage           publishedAt  \\\n",
       "0  https://assets2.rappler.com/2021/06/1-16234687...  2021-06-12T03:39:00Z   \n",
       "1  https://assets2.rappler.com/2021/06/Agnes-Chow...  2021-06-12T02:45:00Z   \n",
       "2  https://www.investors.com/wp-content/uploads/2...  2021-06-12T00:27:00Z   \n",
       "\n",
       "                                             content  \n",
       "0  Jollibee's new limited edition item can be ord...  \n",
       "1  Hong Kong pro-democracy activist Agnes Chow wa...  \n",
       "2  Dow Jones futures will open Sunday evening, al...  "
      ]
     },
     "execution_count": 112,
     "metadata": {},
     "output_type": "execute_result"
    }
   ],
   "source": [
    "df.head(3)"
   ]
  }
 ],
 "metadata": {
  "kernelspec": {
   "display_name": "Python 3",
   "language": "python",
   "name": "python3"
  },
  "language_info": {
   "codemirror_mode": {
    "name": "ipython",
    "version": 3
   },
   "file_extension": ".py",
   "mimetype": "text/x-python",
   "name": "python",
   "nbconvert_exporter": "python",
   "pygments_lexer": "ipython3",
   "version": "3.9.4"
  }
 },
 "nbformat": 4,
 "nbformat_minor": 5
}
